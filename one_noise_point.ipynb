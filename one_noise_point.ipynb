{
 "cells": [
  {
   "cell_type": "code",
   "execution_count": 6,
   "metadata": {},
   "outputs": [
    {
     "name": "stdout",
     "output_type": "stream",
     "text": [
      "The autoreload extension is already loaded. To reload it, use:\n",
      "  %reload_ext autoreload\n"
     ]
    },
    {
     "data": {
      "image/png": "[encoded data removed]",
      "text/plain": [
       "<matplotlib.figure.Figure at 0x7ff0fbf2b390>"
      ]
     },
     "metadata": {},
     "output_type": "display_data"
    }
   ],
   "source": [
    "%load_ext autoreload\n",
    "%autoreload 2\n",
    "\n",
    "from ImageProcessing import ImageProcessing\n",
    "import numpy as np\n",
    "import matplotlib.pyplot as plt\n",
    "\n",
    "ip = ImageProcessing()\n",
    "\n",
    "#image = ip.read_im('images/test_ocean.png')\n",
    "image = ip.read_im('images/simple_test.png')\n",
    "ip.show_im(image)"
   ]
  },
  {
   "cell_type": "code",
   "execution_count": 31,
   "metadata": {},
   "outputs": [
    {
     "data": {
      "image/png": "[encoded data removed]",
      "text/plain": [
       "<matplotlib.figure.Figure at 0x7ff0fbdfbd30>"
      ]
     },
     "metadata": {},
     "output_type": "display_data"
    }
   ],
   "source": [
    "image2 = ip.get_patch(8,8,16,image)\n",
    "noised_image = ip.delete_rect(image2, 4,4,3,3)\n",
    "ip.show_im(noised_image)"
   ]
  },
  {
   "cell_type": "code",
   "execution_count": 33,
   "metadata": {},
   "outputs": [
    {
     "name": "stdout",
     "output_type": "stream",
     "text": [
      "start painting\n",
      "(16, 16, 3)\n"
     ]
    },
    {
     "ename": "ValueError",
     "evalue": "Found array with 0 sample(s) (shape=(0, 5)) while a minimum of 1 is required.",
     "output_type": "error",
     "traceback": [
      "\u001b[0;31m---------------------------------------------------------------------------\u001b[0m",
      "\u001b[0;31mValueError\u001b[0m                                Traceback (most recent call last)",
      "\u001b[0;32m<ipython-input-33-b1e724e63cbe>\u001b[0m in \u001b[0;36m<module>\u001b[0;34m()\u001b[0m\n\u001b[1;32m      7\u001b[0m \u001b[0minpainting\u001b[0m \u001b[0;34m=\u001b[0m \u001b[0mIterativeInpainting\u001b[0m\u001b[0;34m(\u001b[0m\u001b[0mnoised_image\u001b[0m\u001b[0;34m,\u001b[0m \u001b[0mpatch_sizes\u001b[0m\u001b[0;34m=\u001b[0m\u001b[0mh\u001b[0m\u001b[0;34m,\u001b[0m \u001b[0mstep_size\u001b[0m\u001b[0;34m=\u001b[0m\u001b[0mstep\u001b[0m\u001b[0;34m)\u001b[0m\u001b[0;34m\u001b[0m\u001b[0m\n\u001b[1;32m      8\u001b[0m \u001b[0mcurrentAlpha\u001b[0m \u001b[0;34m=\u001b[0m \u001b[0;36m0.0000001\u001b[0m\u001b[0;34m\u001b[0m\u001b[0m\n\u001b[0;32m----> 9\u001b[0;31m \u001b[0mimage_inpainted\u001b[0m \u001b[0;34m=\u001b[0m \u001b[0minpainting\u001b[0m\u001b[0;34m.\u001b[0m\u001b[0minpaint\u001b[0m\u001b[0;34m(\u001b[0m\u001b[0malpha\u001b[0m\u001b[0;34m=\u001b[0m\u001b[0;36m0.0000001\u001b[0m\u001b[0;34m)\u001b[0m\u001b[0;34m\u001b[0m\u001b[0m\n\u001b[0m\u001b[1;32m     10\u001b[0m \u001b[0;31m# im = inpainting.get_image()\u001b[0m\u001b[0;34m\u001b[0m\u001b[0;34m\u001b[0m\u001b[0m\n\u001b[1;32m     11\u001b[0m \u001b[0;31m# inpainting.show_image()\u001b[0m\u001b[0;34m\u001b[0m\u001b[0;34m\u001b[0m\u001b[0m\n",
      "\u001b[0;32m~/Uni/semestre_2/ARF/arf-project/IterativeInpainting.py\u001b[0m in \u001b[0;36minpaint\u001b[0;34m(self, alpha)\u001b[0m\n\u001b[1;32m     39\u001b[0m \u001b[0;34m\u001b[0m\u001b[0m\n\u001b[1;32m     40\u001b[0m             \u001b[0mmodel\u001b[0m \u001b[0;34m=\u001b[0m \u001b[0mLasso\u001b[0m\u001b[0;34m(\u001b[0m\u001b[0malpha\u001b[0m\u001b[0;34m=\u001b[0m\u001b[0malpha\u001b[0m\u001b[0;34m)\u001b[0m\u001b[0;34m\u001b[0m\u001b[0m\n\u001b[0;32m---> 41\u001b[0;31m             \u001b[0mmodel\u001b[0m \u001b[0;34m=\u001b[0m \u001b[0mmodel\u001b[0m\u001b[0;34m.\u001b[0m\u001b[0mfit\u001b[0m\u001b[0;34m(\u001b[0m\u001b[0mX\u001b[0m\u001b[0;34m,\u001b[0m \u001b[0mY\u001b[0m\u001b[0;34m)\u001b[0m \u001b[0;31m# coefficient sparse\u001b[0m\u001b[0;34m\u001b[0m\u001b[0m\n\u001b[0m\u001b[1;32m     42\u001b[0m             \u001b[0mcoef\u001b[0m \u001b[0;34m=\u001b[0m \u001b[0mnp\u001b[0m\u001b[0;34m.\u001b[0m\u001b[0marray\u001b[0m\u001b[0;34m(\u001b[0m\u001b[0mmodel\u001b[0m\u001b[0;34m.\u001b[0m\u001b[0mcoef_\u001b[0m\u001b[0;34m)\u001b[0m\u001b[0;34m\u001b[0m\u001b[0m\n\u001b[1;32m     43\u001b[0m             \u001b[0;31m#prediction\u001b[0m\u001b[0;34m\u001b[0m\u001b[0;34m\u001b[0m\u001b[0m\n",
      "\u001b[0;32m~/anaconda3/lib/python3.6/site-packages/sklearn/linear_model/coordinate_descent.py\u001b[0m in \u001b[0;36mfit\u001b[0;34m(self, X, y, check_input)\u001b[0m\n\u001b[1;32m    705\u001b[0m                              \u001b[0morder\u001b[0m\u001b[0;34m=\u001b[0m\u001b[0;34m'F'\u001b[0m\u001b[0;34m,\u001b[0m \u001b[0mdtype\u001b[0m\u001b[0;34m=\u001b[0m\u001b[0;34m[\u001b[0m\u001b[0mnp\u001b[0m\u001b[0;34m.\u001b[0m\u001b[0mfloat64\u001b[0m\u001b[0;34m,\u001b[0m \u001b[0mnp\u001b[0m\u001b[0;34m.\u001b[0m\u001b[0mfloat32\u001b[0m\u001b[0;34m]\u001b[0m\u001b[0;34m,\u001b[0m\u001b[0;34m\u001b[0m\u001b[0m\n\u001b[1;32m    706\u001b[0m                              \u001b[0mcopy\u001b[0m\u001b[0;34m=\u001b[0m\u001b[0mself\u001b[0m\u001b[0;34m.\u001b[0m\u001b[0mcopy_X\u001b[0m \u001b[0;32mand\u001b[0m \u001b[0mself\u001b[0m\u001b[0;34m.\u001b[0m\u001b[0mfit_intercept\u001b[0m\u001b[0;34m,\u001b[0m\u001b[0;34m\u001b[0m\u001b[0m\n\u001b[0;32m--> 707\u001b[0;31m                              multi_output=True, y_numeric=True)\n\u001b[0m\u001b[1;32m    708\u001b[0m             y = check_array(y, order='F', copy=False, dtype=X.dtype.type,\n\u001b[1;32m    709\u001b[0m                             ensure_2d=False)\n",
      "\u001b[0;32m~/anaconda3/lib/python3.6/site-packages/sklearn/utils/validation.py\u001b[0m in \u001b[0;36mcheck_X_y\u001b[0;34m(X, y, accept_sparse, dtype, order, copy, force_all_finite, ensure_2d, allow_nd, multi_output, ensure_min_samples, ensure_min_features, y_numeric, warn_on_dtype, estimator)\u001b[0m\n\u001b[1;32m    571\u001b[0m     X = check_array(X, accept_sparse, dtype, order, copy, force_all_finite,\n\u001b[1;32m    572\u001b[0m                     \u001b[0mensure_2d\u001b[0m\u001b[0;34m,\u001b[0m \u001b[0mallow_nd\u001b[0m\u001b[0;34m,\u001b[0m \u001b[0mensure_min_samples\u001b[0m\u001b[0;34m,\u001b[0m\u001b[0;34m\u001b[0m\u001b[0m\n\u001b[0;32m--> 573\u001b[0;31m                     ensure_min_features, warn_on_dtype, estimator)\n\u001b[0m\u001b[1;32m    574\u001b[0m     \u001b[0;32mif\u001b[0m \u001b[0mmulti_output\u001b[0m\u001b[0;34m:\u001b[0m\u001b[0;34m\u001b[0m\u001b[0m\n\u001b[1;32m    575\u001b[0m         y = check_array(y, 'csr', force_all_finite=True, ensure_2d=False,\n",
      "\u001b[0;32m~/anaconda3/lib/python3.6/site-packages/sklearn/utils/validation.py\u001b[0m in \u001b[0;36mcheck_array\u001b[0;34m(array, accept_sparse, dtype, order, copy, force_all_finite, ensure_2d, allow_nd, ensure_min_samples, ensure_min_features, warn_on_dtype, estimator)\u001b[0m\n\u001b[1;32m    460\u001b[0m                              \u001b[0;34m\" minimum of %d is required%s.\"\u001b[0m\u001b[0;34m\u001b[0m\u001b[0m\n\u001b[1;32m    461\u001b[0m                              % (n_samples, shape_repr, ensure_min_samples,\n\u001b[0;32m--> 462\u001b[0;31m                                 context))\n\u001b[0m\u001b[1;32m    463\u001b[0m \u001b[0;34m\u001b[0m\u001b[0m\n\u001b[1;32m    464\u001b[0m     \u001b[0;32mif\u001b[0m \u001b[0mensure_min_features\u001b[0m \u001b[0;34m>\u001b[0m \u001b[0;36m0\u001b[0m \u001b[0;32mand\u001b[0m \u001b[0marray\u001b[0m\u001b[0;34m.\u001b[0m\u001b[0mndim\u001b[0m \u001b[0;34m==\u001b[0m \u001b[0;36m2\u001b[0m\u001b[0;34m:\u001b[0m\u001b[0;34m\u001b[0m\u001b[0m\n",
      "\u001b[0;31mValueError\u001b[0m: Found array with 0 sample(s) (shape=(0, 5)) while a minimum of 1 is required."
     ]
    }
   ],
   "source": [
    "from ImageProcessing import ImageProcessing\n",
    "from IterativeInpainting import IterativeInpainting\n",
    "\n",
    "ip = ImageProcessing()\n",
    "h = 6\n",
    "step = 4\n",
    "inpainting = IterativeInpainting(noised_image, patch_sizes=h, step_size=step)\n",
    "currentAlpha = 0.0000001\n",
    "image_inpainted = inpainting.inpaint(alpha=0.0000001)\n",
    "# im = inpainting.get_image()\n",
    "# inpainting.show_image()\n",
    "# print(im[32,32])\n",
    "# ip.vector_to_patch(d[0])\n",
    "# print(ip.vector_to_patch(np.divide(image_inpainted, 36)))\n",
    "# ip.show_im(original)\n",
    "ip.show_im(image_inpainted)\n",
    "# ip.show_im(ip.vector_to_patch(np.divide(image_inpainted, 52)))"
   ]
  },
  {
   "cell_type": "code",
   "execution_count": 38,
   "metadata": {},
   "outputs": [
    {
     "data": {
      "text/plain": [
       "array([[[   0.5703704 ,    0.66176474,    0.53333336],\n",
       "        [   0.56060606,    0.68750006,    0.5019608 ],\n",
       "        [   0.5632184 ,    0.6692308 ,    0.50980395],\n",
       "        [   0.5736434 ,    0.61428577,    0.54901963],\n",
       "        [   0.5804598 ,    0.5649351 ,    0.6039216 ],\n",
       "        [   0.58614236,    0.53939396,    0.64705884],\n",
       "        [   0.587037  ,    0.52941173,    0.6666667 ],\n",
       "        [   0.5860215 ,    0.53757226,    0.6784314 ],\n",
       "        [   0.58070177,    0.53977275,    0.6901961 ],\n",
       "        [   0.57465273,    0.5333333 ,    0.7058824 ]],\n",
       "\n",
       "       [[   0.5694444 ,    0.5423729 ,    0.69411767],\n",
       "        [   0.5645161 ,    0.5344828 ,    0.68235296],\n",
       "        [   0.5634058 ,    0.5317919 ,    0.6784314 ],\n",
       "        [   0.5692884 ,    0.5056818 ,    0.6901961 ],\n",
       "        [   0.5755814 ,    0.46994537,    0.7176471 ],\n",
       "        [   0.5793651 ,    0.45405406,    0.7254902 ],\n",
       "        [   0.5793651 ,    0.45901638,    0.7176471 ],\n",
       "        [   0.57843137,    0.46703297,    0.7137255 ],\n",
       "        [   0.5755814 ,    0.4673913 ,    0.72156864],\n",
       "        [   0.5719697 ,    0.4680851 ,    0.7372549 ]],\n",
       "\n",
       "       [[   0.5686274 ,    0.5125628 ,    0.78039217],\n",
       "        [   0.56632656,    0.4924623 ,    0.78039217],\n",
       "        [   0.5673759 ,    0.48205128,    0.7647059 ],\n",
       "        [   0.5703704 ,    0.46632126,    0.75686276],\n",
       "        [   0.57254905,    0.44041452,    0.75686276],\n",
       "        [   0.5729167 ,    0.42105263,    0.74509805],\n",
       "        [   0.57051283,    0.42162162,    0.7254902 ],\n",
       "        [   0.56962025,    0.4388889 ,    0.7058824 ],\n",
       "        [   0.56874996,    0.44692737,    0.7019608 ],\n",
       "        [   0.5691057 ,    0.45810056,    0.7019608 ]],\n",
       "\n",
       "       [[   0.5656566 ,    0.5238095 ,    0.7411765 ],\n",
       "        [   0.56914896,    0.4973545 ,    0.7411765 ],\n",
       "        [   0.57116103,    0.48108107,    0.7254902 ],\n",
       "        [   0.5714286 ,    0.46927375,    0.7019608 ],\n",
       "        [   0.56874996,    0.45714286,    0.6862745 ],\n",
       "        [   0.56666666,    0.4360465 ,    0.6745098 ],\n",
       "        [   0.5625    ,    0.42857143,    0.65882355],\n",
       "        [   0.5608108 ,    0.45398775,    0.6392157 ],\n",
       "        [   0.56277055,    0.48427674,    0.62352943],\n",
       "        [   0.56666666,    0.516129  ,    0.60784316]],\n",
       "\n",
       "       [[   0.57007575,    0.56050956,    0.6156863 ],\n",
       "        [   0.5686274 ,    0.5629139 ,    0.5921569 ],\n",
       "        [   0.5711382 ,    0.5503356 ,    0.58431375],\n",
       "        [   0.57172996,    0.5448276 ,    0.5686275 ],\n",
       "        [   0.5675676 ,    0.5441177 ,    0.53333336],\n",
       "        [   0.5648148 ,    0.52941173,    0.53333336],\n",
       "        [   0.5601852 ,    0.5217391 ,    0.5411765 ],\n",
       "        [   0.56      ,    0.55147064,    0.53333336],\n",
       "        [   0.55982906,    0.5954199 ,    0.5137255 ],\n",
       "        [   0.564257  ,    0.64843756,    0.5019608 ]],\n",
       "\n",
       "       [[   0.5708334 ,    0.61538464,    0.50980395],\n",
       "        [   0.563786  ,    0.7105263 ,    0.44705883],\n",
       "        [   0.56329113,    0.7053571 ,    0.4392157 ],\n",
       "        [   0.56798244,    0.6972477 ,    0.42745098],\n",
       "        [   0.56621003,    0.75257736,    0.38039216],\n",
       "        [   0.56392694,    0.73737377,    0.3882353 ],\n",
       "        [   0.56      ,    0.7009345 ,    0.41960785],\n",
       "        [   0.56041664,    0.7142857 ,    0.4392157 ],\n",
       "        [   0.5607843 ,    0.74561405,    0.44705883],\n",
       "        [   0.56296295,    0.7692308 ,    0.45882353]],\n",
       "\n",
       "       [[   0.5630081 ,    0.6776859 ,    0.4745098 ],\n",
       "        [   0.5575397 ,    0.815534  ,    0.40392157],\n",
       "        [   0.56150794,    0.84000003,    0.39215687],\n",
       "        [   0.56584364,    0.84375   ,    0.3764706 ],\n",
       "        [   0.5692641 ,    0.9166667 ,    0.32941177],\n",
       "        [-100.        , -100.        , -100.        ],\n",
       "        [   0.5654762 ,    0.8659794 ,    0.38039216],\n",
       "        [   0.56439394,    0.8148148 ,    0.42352942],\n",
       "        [   0.5641026 ,    0.7777778 ,    0.45882353],\n",
       "        [   0.56491226,    0.74218756,    0.5019608 ]],\n",
       "\n",
       "       [[   0.55496454,    0.7768595 ,    0.4745098 ],\n",
       "        [   0.5591398 ,    0.76859504,    0.4745098 ],\n",
       "        [   0.5615942 ,    0.75409836,    0.47843137],\n",
       "        [   0.5641026 ,    0.7583333 ,    0.47058824],\n",
       "        [   0.5692884 ,    0.7606838 ,    0.45882353],\n",
       "        [   0.5692884 ,    0.7355372 ,    0.4745098 ],\n",
       "        [   0.56989247,    0.71538466,    0.50980395],\n",
       "        [   0.5681004 ,    0.6838236 ,    0.53333336],\n",
       "        [   0.56560284,    0.6666667 ,    0.5529412 ],\n",
       "        [   0.56560284,    0.64383566,    0.57254905]],\n",
       "\n",
       "       [[   0.55714285,    0.77205884,    0.53333336],\n",
       "        [   0.55987054,    0.7006803 ,    0.5764706 ],\n",
       "        [   0.56310683,    0.695946  ,    0.5803922 ],\n",
       "        [   0.5653595 ,    0.69863015,    0.57254905],\n",
       "        [   0.5669935 ,    0.6891892 ,    0.5803922 ],\n",
       "        [   0.5693069 ,    0.66013074,    0.6       ],\n",
       "        [   0.5683333 ,    0.62893087,    0.62352943],\n",
       "        [   0.56701034,    0.60248446,    0.6313726 ],\n",
       "        [   0.5642361 ,    0.6037736 ,    0.62352943],\n",
       "        [   0.5645161 ,    0.60389614,    0.6039216 ]],\n",
       "\n",
       "       [[   0.56269115,    0.68125004,    0.627451  ],\n",
       "        [   0.5607477 ,    0.6407186 ,    0.654902  ],\n",
       "        [   0.5613208 ,    0.65030676,    0.6392157 ],\n",
       "        [   0.5650794 ,    0.664557  ,    0.61960787],\n",
       "        [   0.5673077 ,    0.6459628 ,    0.6313726 ],\n",
       "        [   0.56796116,    0.62048197,    0.6509804 ],\n",
       "        [   0.565     ,    0.5847953 ,    0.67058825],\n",
       "        [   0.56292516,    0.5697674 ,    0.6745098 ],\n",
       "        [   0.5614035 ,    0.5792683 ,    0.6431373 ],\n",
       "        [   0.5615942 ,    0.6174497 ,    0.58431375]]], dtype=float32)"
      ]
     },
     "execution_count": 38,
     "metadata": {},
     "output_type": "execute_result"
    }
   ],
   "source": [
    "original"
   ]
  },
  {
   "cell_type": "code",
   "execution_count": null,
   "metadata": {},
   "outputs": [],
   "source": [
    "tests = np.array([[[-100,-100,-100],[1,1,1],[1,1,1]],[[1,1,1],[1,1,1],[1,1,1]],[[1,1,1],[1,1,1],[1,1,1]]])\n",
    "\n",
    "def somePixelsAreMissing(im):\n",
    "    contains_zero = lambda patch: (patch == -100).any()\n",
    "    for patch in tests:\n",
    "        if (contains_zero(patch)):\n",
    "            return True\n",
    "    return False\n",
    "\n",
    "somePixelsAreMissing(tests)"
   ]
  },
  {
   "cell_type": "code",
   "execution_count": 16,
   "metadata": {},
   "outputs": [
    {
     "data": {
      "text/plain": [
       "(300,)"
      ]
     },
     "execution_count": 16,
     "metadata": {},
     "output_type": "execute_result"
    }
   ],
   "source": [
    "ip.patch_to_vector(original)"
   ]
  }
 ],
 "metadata": {
  "kernelspec": {
   "display_name": "Python 3",
   "language": "python",
   "name": "python3"
  },
  "language_info": {
   "codemirror_mode": {
    "name": "ipython",
    "version": 3
   },
   "file_extension": ".py",
   "mimetype": "text/x-python",
   "name": "python",
   "nbconvert_exporter": "python",
   "pygments_lexer": "ipython3",
   "version": "3.6.4"
  }
 },
 "nbformat": 4,
 "nbformat_minor": 2
}
