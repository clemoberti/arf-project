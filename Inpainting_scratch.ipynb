{
 "cells": [
  {
   "cell_type": "markdown",
   "metadata": {},
   "source": [
    "## Préambule : régression linéaire, régression ridge et LASSO"
   ]
  },
  {
   "cell_type": "code",
   "execution_count": 25,
   "metadata": {
    "collapsed": false
   },
   "outputs": [
    {
     "name": "stdout",
     "output_type": "stream",
     "text": [
      "The autoreload extension is already loaded. To reload it, use:\n",
      "  %reload_ext autoreload\n"
     ]
    }
   ],
   "source": [
    "%load_ext autoreload\n",
    "%autoreload 2"
   ]
  },
  {
   "cell_type": "code",
   "execution_count": 2,
   "metadata": {
    "collapsed": true
   },
   "outputs": [],
   "source": [
    "import numpy as np\n",
    "\n",
    "from RegressionLineaire import PlugInLineaire, load_usps, show_usps\n",
    "from utils import filter_values\n",
    "from cross_validation import validation_croisee"
   ]
  },
  {
   "cell_type": "code",
   "execution_count": 3,
   "metadata": {
    "collapsed": false
   },
   "outputs": [
    {
     "data": {
      "image/png": "[encoded data removed]",
      "text/plain": [
       "<matplotlib.figure.Figure at 0x10e4254e0>"
      ]
     },
     "metadata": {},
     "output_type": "display_data"
    }
   ],
   "source": [
    "class1 = 0\n",
    "class2 = 1\n",
    "all_train_x,all_train_y = load_usps('USPS/USPS_train.txt')\n",
    "train_x, train_y = filter_values(all_train_x, all_train_y, class1, class2)\n",
    "all_test_x, all_test_y = load_usps('USPS/USPS_test.txt')\n",
    "test_x, test_y = filter_values(all_test_x, all_test_y, class1, class2)\n",
    "show_usps(train_x[0])"
   ]
  },
  {
   "cell_type": "code",
   "execution_count": 4,
   "metadata": {
    "collapsed": true
   },
   "outputs": [],
   "source": [
    "def evaluate_model(model, null_seuil=0.01):\n",
    "    print('Model : ', model['name'])\n",
    "    model['clf'].fit(train_x,train_y)\n",
    "    score = model['clf'].score(test_x, test_y)\n",
    "    print(\"Precision of classifier \", score)\n",
    "    \n",
    "    print(\"Weights of classifier\")\n",
    "    weights = model['clf'].w\n",
    "    show_usps(weights[1:]) # skip w0\n",
    "    \n",
    "    print(\"Norm of weights: \")\n",
    "    print(np.linalg.norm(weights))\n",
    "    \n",
    "    print(\"Number of non nulls: \")\n",
    "    print((abs(weights) > null_seuil).sum())"
   ]
  },
  {
   "cell_type": "markdown",
   "metadata": {},
   "source": [
    "### MSE\n",
    "On commence par régression linéaire avec fonction de coût moindres carrées / MSE."
   ]
  },
  {
   "cell_type": "code",
   "execution_count": 26,
   "metadata": {
    "collapsed": false
   },
   "outputs": [
    {
     "name": "stdout",
     "output_type": "stream",
     "text": [
      "Model :  MSE\n",
      "Precision of classifier  0.812199036918138\n",
      "Weights of classifier\n"
     ]
    },
    {
     "data": {
      "image/png": "[encoded data removed]",
      "text/plain": [
       "<matplotlib.figure.Figure at 0x10a6efb38>"
      ]
     },
     "metadata": {},
     "output_type": "display_data"
    },
    {
     "name": "stdout",
     "output_type": "stream",
     "text": [
      "Norm of weights: \n",
      "4.874215862971292\n",
      "Number of non nulls: \n",
      "249\n"
     ]
    }
   ],
   "source": [
    "from RegressionLineaire import mse, mse_g\n",
    "mse_classifier = PlugInLineaire(loss=mse, loss_g=mse_g,eps=0.001)\n",
    "evaluate_model({'name': 'MSE', 'clf': mse_classifier})"
   ]
  },
  {
   "cell_type": "markdown",
   "metadata": {},
   "source": [
    "### Régularisation de Tikhonov : L2"
   ]
  },
  {
   "cell_type": "code",
   "execution_count": 34,
   "metadata": {
    "collapsed": false
   },
   "outputs": [],
   "source": [
    "# il faut faire varier dans experiments, logistic regression pour trouver le meilleur alpha\n",
    "def L2(datax,datay,w,alpha):\n",
    "    regularisation = (w ** 2).sum()\n",
    "    return mse(datax, datay, w, alpha) + alpha * regularisation\n",
    "\n",
    "def L2_g(datax,datay,w,alpha):\n",
    "    regularisation_g = 2 * w#.sum()\n",
    "    return mse_g(datax,datay,w,alpha) + alpha * regularisation_g"
   ]
  },
  {
   "cell_type": "code",
   "execution_count": 16,
   "metadata": {
    "collapsed": false
   },
   "outputs": [
    {
     "name": "stdout",
     "output_type": "stream",
     "text": [
      "Model :  L2\n",
      "Precision of classifier  0.8491171749598716\n",
      "Weights of classifier\n"
     ]
    },
    {
     "data": {
      "image/png": "[encoded data removed]",
      "text/plain": [
       "<matplotlib.figure.Figure at 0x10e600438>"
      ]
     },
     "metadata": {},
     "output_type": "display_data"
    },
    {
     "name": "stdout",
     "output_type": "stream",
     "text": [
      "Norm of weights: \n",
      "5.228896492511616\n",
      "Number of non nulls: \n",
      "254\n"
     ]
    }
   ],
   "source": [
    "L2_classifier = PlugInLineaire(loss=L2, loss_g=L2_g, eps=0.001)\n",
    "evaluate_model({'name': 'L2', 'clf': L2_classifier})"
   ]
  },
  {
   "cell_type": "markdown",
   "metadata": {},
   "source": [
    "### LASSO : L1"
   ]
  },
  {
   "cell_type": "code",
   "execution_count": 33,
   "metadata": {
    "collapsed": true
   },
   "outputs": [],
   "source": [
    "# il faut faire varier dans experiments, logistic regression pour trouver le meilleur alpha\n",
    "def L1(datax,datay,w, alpha):\n",
    "    regularisation = w.sum()\n",
    "    return mse(datax, datay, w, alpha) + alpha * regularisation\n",
    "\n",
    "def L1_g(datax,datay,w, alpha):\n",
    "    regularisation_g = np.sign(w)\n",
    "    return mse_g(datax,datay,w, alpha) + alpha * regularisation_g"
   ]
  },
  {
   "cell_type": "code",
   "execution_count": 17,
   "metadata": {
    "collapsed": false
   },
   "outputs": [
    {
     "name": "stdout",
     "output_type": "stream",
     "text": [
      "Model :  L1\n",
      "Precision of classifier  0.8523274478330658\n",
      "Weights of classifier\n"
     ]
    },
    {
     "data": {
      "image/png": "[encoded data removed]",
      "text/plain": [
       "<matplotlib.figure.Figure at 0x10e4670f0>"
      ]
     },
     "metadata": {},
     "output_type": "display_data"
    },
    {
     "name": "stdout",
     "output_type": "stream",
     "text": [
      "Norm of weights: \n",
      "5.0952062554176\n",
      "Number of non nulls: \n",
      "251\n"
     ]
    }
   ],
   "source": [
    "L1_classifier = PlugInLineaire(loss=L1, loss_g=L1_g, eps=0.001)\n",
    "evaluate_model({'name': 'L1', 'clf': L1_classifier})"
   ]
  },
  {
   "cell_type": "markdown",
   "metadata": {},
   "source": [
    "### Let's search the best alpha"
   ]
  },
  {
   "cell_type": "code",
   "execution_count": 42,
   "metadata": {
    "collapsed": true
   },
   "outputs": [],
   "source": [
    "def grid_search(X,Y,loss,loss_g, alphas):\n",
    "    result = np.zeros(len(alphas))\n",
    "    for i,a in enumerate(alphas):\n",
    "        model = PlugInLineaire(loss=loss, loss_g=loss_g, eps=0.001, alpha=a)\n",
    "        result[i] = validation_croisee(X,Y, model, 10)\n",
    "    return alphas[result.argmax()], result.max()"
   ]
  },
  {
   "cell_type": "code",
   "execution_count": 43,
   "metadata": {
    "collapsed": false
   },
   "outputs": [
    {
     "name": "stdout",
     "output_type": "stream",
     "text": [
      "L2 :  (2, 1.0)\n",
      "L1 :  (0.8, 0.9945392278953923)\n"
     ]
    }
   ],
   "source": [
    "alphas = [0.1,0.3, 0.5, 0.8,1, 1.5, 2, 3]\n",
    "# mse should give allways something similar, becouse it does not use alpha\n",
    "#print(\"MSE : \", grid_search(train_x, train_y, mse, mse_g, alphas))\n",
    "print(\"L2 : \",grid_search(train_x, train_y, L2, L2_g, alphas))\n",
    "print(\"L1 : \",grid_search(train_x, train_y, L1, L1_g, alphas))"
   ]
  },
  {
   "cell_type": "code",
   "execution_count": 15,
   "metadata": {
    "collapsed": false
   },
   "outputs": [
    {
     "ename": "TypeError",
     "evalue": "<lambda>() missing 1 required positional argument: '___'",
     "output_type": "error",
     "traceback": [
      "\u001b[0;31m---------------------------------------------------------------------------\u001b[0m",
      "\u001b[0;31mTypeError\u001b[0m                                 Traceback (most recent call last)",
      "\u001b[0;32m<ipython-input-15-c3ae1fb1c36c>\u001b[0m in \u001b[0;36m<module>\u001b[0;34m()\u001b[0m\n\u001b[1;32m      1\u001b[0m \u001b[0ml\u001b[0m \u001b[0;34m=\u001b[0m \u001b[0;32mlambda\u001b[0m \u001b[0m_\u001b[0m\u001b[0;34m,\u001b[0m\u001b[0m__\u001b[0m\u001b[0;34m,\u001b[0m \u001b[0m___\u001b[0m\u001b[0;34m:\u001b[0m \u001b[0;36m2\u001b[0m\u001b[0;34m\u001b[0m\u001b[0m\n\u001b[0;32m----> 2\u001b[0;31m \u001b[0ml\u001b[0m\u001b[0;34m(\u001b[0m\u001b[0;36m2\u001b[0m\u001b[0;34m,\u001b[0m\u001b[0;36m66\u001b[0m\u001b[0;34m)\u001b[0m\u001b[0;34m\u001b[0m\u001b[0m\n\u001b[0m",
      "\u001b[0;31mTypeError\u001b[0m: <lambda>() missing 1 required positional argument: '___'"
     ]
    }
   ],
   "source": []
  }
 ],
 "metadata": {
  "anaconda-cloud": {},
  "kernelspec": {
   "display_name": "Python [conda env:anaconda3]",
   "language": "python",
   "name": "conda-env-anaconda3-py"
  },
  "language_info": {
   "codemirror_mode": {
    "name": "ipython",
    "version": 3
   },
   "file_extension": ".py",
   "mimetype": "text/x-python",
   "name": "python",
   "nbconvert_exporter": "python",
   "pygments_lexer": "ipython3",
   "version": "3.5.4"
  }
 },
 "nbformat": 4,
 "nbformat_minor": 2
}
